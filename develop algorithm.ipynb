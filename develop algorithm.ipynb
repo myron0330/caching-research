{
 "cells": [
  {
   "cell_type": "code",
   "execution_count": 1,
   "metadata": {
    "collapsed": true
   },
   "outputs": [],
   "source": [
    "from section_cftl.agent import Agent\n",
    "import numpy as np\n",
    "from cvxpy import *\n",
    "\n",
    "\n",
    "agent = Agent.from_()"
   ]
  },
  {
   "cell_type": "code",
   "execution_count": 25,
   "metadata": {
    "collapsed": true
   },
   "outputs": [],
   "source": [
    "import networkx as nx\n",
    "import matplotlib.pyplot as plt\n",
    "\n",
    "nx.draw(agent.bs_network, pos=agent.bs_network.positions_info, width=0, node_size=50)\n",
    "nx.draw(agent.users_network, pos=agent.users_network.positions_info, width=0, node_size=10, node_color='g')\n",
    "\n",
    "# plt.show()"
   ]
  },
  {
   "cell_type": "code",
   "execution_count": 8,
   "metadata": {
    "collapsed": false
   },
   "outputs": [
    {
     "data": {
      "text/plain": [
       "array([[1., 1., 1., ..., 1., 1., 1.],\n",
       "       [1., 1., 1., ..., 1., 1., 1.],\n",
       "       [1., 1., 1., ..., 1., 1., 1.],\n",
       "       ...,\n",
       "       [1., 1., 1., ..., 1., 1., 1.],\n",
       "       [1., 1., 1., ..., 1., 1., 1.],\n",
       "       [1., 1., 1., ..., 1., 1., 1.]])"
      ]
     },
     "execution_count": 8,
     "metadata": {},
     "output_type": "execute_result"
    }
   ],
   "source": [
    "agent.x_uk"
   ]
  },
  {
   "cell_type": "code",
   "execution_count": 6,
   "metadata": {
    "collapsed": false
   },
   "outputs": [
    {
     "data": {
      "text/plain": [
       "array([[5., 5., 5., ..., 5., 5., 5.],\n",
       "       [5., 5., 5., ..., 5., 5., 5.],\n",
       "       [5., 5., 5., ..., 5., 5., 5.],\n",
       "       ...,\n",
       "       [5., 5., 5., ..., 5., 5., 5.],\n",
       "       [5., 5., 5., ..., 5., 5., 5.],\n",
       "       [5., 5., 5., ..., 5., 5., 5.]])"
      ]
     },
     "execution_count": 6,
     "metadata": {},
     "output_type": "execute_result"
    }
   ],
   "source": [
    "agent.l_uk0"
   ]
  },
  {
   "cell_type": "code",
   "execution_count": 56,
   "metadata": {
    "collapsed": false
   },
   "outputs": [
    {
     "data": {
      "text/plain": [
       "array([[0.77156151, 0.77156151, 0.77156151, ..., 0.77156151, 0.77156151,\n",
       "        0.77156151],\n",
       "       [0.74947313, 0.74947313, 0.74947313, ..., 0.74947313, 0.74947313,\n",
       "        0.74947313],\n",
       "       [0.90042264, 0.90042264, 0.90042264, ..., 0.90042264, 0.90042264,\n",
       "        0.90042264],\n",
       "       ...,\n",
       "       [0.79067276, 0.79067276, 0.79067276, ..., 0.79067276, 0.79067276,\n",
       "        0.79067276],\n",
       "       [1.02586236, 1.02586236, 1.02586236, ..., 1.02586236, 1.02586236,\n",
       "        1.02586236],\n",
       "       [0.49595501, 0.49595501, 0.49595501, ..., 0.49595501, 0.49595501,\n",
       "        0.49595501]])"
      ]
     },
     "execution_count": 56,
     "metadata": {},
     "output_type": "execute_result"
    }
   ],
   "source": [
    "agent.l_ukb"
   ]
  },
  {
   "cell_type": "code",
   "execution_count": 57,
   "metadata": {
    "collapsed": false
   },
   "outputs": [
    {
     "data": {
      "text/plain": [
       "array([[5., 5., 5., ..., 5., 5., 5.],\n",
       "       [5., 5., 5., ..., 5., 5., 5.],\n",
       "       [5., 5., 5., ..., 5., 5., 5.],\n",
       "       ...,\n",
       "       [5., 5., 5., ..., 5., 5., 5.],\n",
       "       [5., 5., 5., ..., 5., 5., 5.],\n",
       "       [5., 5., 5., ..., 5., 5., 5.]])"
      ]
     },
     "execution_count": 57,
     "metadata": {},
     "output_type": "execute_result"
    }
   ],
   "source": [
    "agent.l_uk0"
   ]
  },
  {
   "cell_type": "code",
   "execution_count": 3,
   "metadata": {
    "collapsed": false
   },
   "outputs": [
    {
     "data": {
      "text/plain": [
       "array([[4.22843849, 4.22843849, 4.22843849, ..., 4.22843849, 4.22843849,\n",
       "        4.22843849],\n",
       "       [4.25052687, 4.25052687, 4.25052687, ..., 4.25052687, 4.25052687,\n",
       "        4.25052687],\n",
       "       [4.09957736, 4.09957736, 4.09957736, ..., 4.09957736, 4.09957736,\n",
       "        4.09957736],\n",
       "       ...,\n",
       "       [4.20932724, 4.20932724, 4.20932724, ..., 4.20932724, 4.20932724,\n",
       "        4.20932724],\n",
       "       [3.97413764, 3.97413764, 3.97413764, ..., 3.97413764, 3.97413764,\n",
       "        3.97413764],\n",
       "       [4.50404499, 4.50404499, 4.50404499, ..., 4.50404499, 4.50404499,\n",
       "        4.50404499]])"
      ]
     },
     "execution_count": 3,
     "metadata": {},
     "output_type": "execute_result"
    }
   ],
   "source": [
    "agent.l_uk_diff"
   ]
  },
  {
   "cell_type": "code",
   "execution_count": 3,
   "metadata": {
    "collapsed": false
   },
   "outputs": [
    {
     "data": {
      "text/plain": [
       "array([[0.24412909, 0.13082554, 0.09082604, ..., 0.01810816, 0.0172481 ,\n",
       "        0.01646996],\n",
       "       [0.24412909, 0.13082554, 0.09082604, ..., 0.01810816, 0.0172481 ,\n",
       "        0.01646996],\n",
       "       [0.24412909, 0.13082554, 0.09082604, ..., 0.01810816, 0.0172481 ,\n",
       "        0.01646996],\n",
       "       ...,\n",
       "       [0.24412909, 0.13082554, 0.09082604, ..., 0.01810816, 0.0172481 ,\n",
       "        0.01646996],\n",
       "       [0.24412909, 0.13082554, 0.09082604, ..., 0.01810816, 0.0172481 ,\n",
       "        0.01646996],\n",
       "       [0.24412909, 0.13082554, 0.09082604, ..., 0.01810816, 0.0172481 ,\n",
       "        0.01646996]])"
      ]
     },
     "execution_count": 3,
     "metadata": {},
     "output_type": "execute_result"
    }
   ],
   "source": [
    "agent.theta_uk"
   ]
  },
  {
   "cell_type": "code",
   "execution_count": 19,
   "metadata": {
    "collapsed": true,
    "scrolled": false
   },
   "outputs": [],
   "source": [
    "for _ in ['uk_shape', 'uk_size', 'theta_uk', 'memory', 'l_uk0, l_ukb, neighbor_size_dict]"
   ]
  },
  {
   "cell_type": "code",
   "execution_count": 2,
   "metadata": {
    "collapsed": false,
    "scrolled": false
   },
   "outputs": [
    {
     "data": {
      "text/plain": [
       "array([[0.35301582, 1.        , 1.        , 1.        , 1.        ,\n",
       "        1.        , 0.38345509, 0.34834892, 0.33576283, 0.32857861,\n",
       "        0.32383716, 0.32045155, 0.31790279, 0.31591706, 0.31428861,\n",
       "        0.31298363, 0.31069275, 0.33769562, 0.32644942, 0.37025311]])"
      ]
     },
     "execution_count": 2,
     "metadata": {},
     "output_type": "execute_result"
    }
   ],
   "source": [
    "import numpy as np\n",
    "from section_cftl.algorithms.solvers import *\n",
    "from section_cftl.agent import Agent\n",
    "from cvxpy import *\n",
    "\n",
    "agent = Agent.from_()\n",
    "agent.x_uk = solve_x(agent)\n",
    "agent.y_k = solve_y(agent)\n",
    "agent.x_uk = solve_x(agent)\n",
    "agent.y_k = solve_y(agent)\n",
    "agent.x_uk = solve_x(agent)\n",
    "agent.y_k = solve_y(agent)\n",
    "agent.x_uk\n",
    "agent.y_k"
   ]
  },
  {
   "cell_type": "code",
   "execution_count": 1,
   "metadata": {
    "collapsed": false,
    "scrolled": true
   },
   "outputs": [
    {
     "name": "stdout",
     "output_type": "stream",
     "text": [
      "Iteration 0 finished with reward 183.352992641.\n",
      "Iteration 1 finished with reward 119.047382732.\n",
      "Iteration 2 finished with reward 91.7928063152.\n",
      "Iteration 3 finished with reward 75.1457311273.\n",
      "Iteration 4 finished with reward 63.6600347648.\n",
      "Iteration 5 finished with reward 55.9527172126.\n",
      "Iteration 6 finished with reward 50.5463240759.\n",
      "Iteration 7 finished with reward 46.025095112.\n",
      "Iteration 8 finished with reward 42.6014334629.\n",
      "Iteration 9 finished with reward 39.9658183984.\n",
      "Iteration 10 finished with reward 37.5957351236.\n",
      "Iteration 11 finished with reward 35.6105218853.\n",
      "Iteration 12 finished with reward 33.9559150721.\n",
      "Iteration 13 finished with reward 32.5721779516.\n",
      "Iteration 14 finished with reward 32.2068142015.\n",
      "Iteration 15 finished with reward 31.8096976792.\n",
      "Iteration 16 finished with reward 31.410539094.\n",
      "Iteration 17 finished with reward 31.0311133583.\n",
      "Iteration 18 finished with reward 30.6918213705.\n",
      "Iteration 19 finished with reward 30.4018590934.\n",
      "Iteration 20 finished with reward 30.164994976.\n",
      "Iteration 21 finished with reward 29.9825083634.\n",
      "Iteration 22 finished with reward 29.8523738685.\n",
      "Iteration 23 finished with reward 29.7214692759.\n",
      "Iteration 24 finished with reward 29.6195277155.\n",
      "Iteration 25 finished with reward 29.5434763554.\n",
      "Iteration 26 finished with reward 29.4822811885.\n",
      "Iteration 27 finished with reward 29.4361144174.\n",
      "Iteration 28 finished with reward 29.40800407.\n",
      "Iteration 29 finished with reward 29.738506412.\n",
      "Iteration 30 finished with reward 29.5510402303.\n",
      "Iteration 31 finished with reward 29.3475260969.\n",
      "Iteration 32 finished with reward 29.1331941036.\n",
      "Iteration 33 finished with reward 28.9120608174.\n",
      "Iteration 34 finished with reward 28.68792736.\n",
      "Iteration 35 finished with reward 28.4631521612.\n",
      "Iteration 36 finished with reward 28.2395849281.\n",
      "Iteration 37 finished with reward 28.0186680769.\n",
      "Iteration 38 finished with reward 27.8015168945.\n",
      "Iteration 39 finished with reward 27.5907088788.\n",
      "Iteration 40 finished with reward 27.3840714615.\n",
      "Iteration 41 finished with reward 27.3802570626.\n",
      "Iteration 42 finished with reward 27.3894089386.\n",
      "Iteration 43 finished with reward 27.4103061368.\n",
      "Iteration 44 finished with reward 27.4425637119.\n",
      "Iteration 45 finished with reward 27.4799226244.\n",
      "Iteration 46 finished with reward 27.5132931733.\n",
      "Iteration 47 finished with reward 27.5430474104.\n",
      "Iteration 48 finished with reward 27.569519247.\n",
      "Iteration 49 finished with reward 27.5930087386.\n"
     ]
    },
    {
     "data": {
      "text/plain": [
       "[183.35299264133931,\n",
       " 119.04738273243743,\n",
       " 91.792806315223913,\n",
       " 75.145731127258728,\n",
       " 63.660034764824474,\n",
       " 55.952717212613749,\n",
       " 50.546324075929675,\n",
       " 46.02509511197924,\n",
       " 42.601433462862921,\n",
       " 39.965818398391093,\n",
       " 37.595735123587133,\n",
       " 35.610521885327294,\n",
       " 33.955915072124462,\n",
       " 32.572177951554963,\n",
       " 32.206814201454748,\n",
       " 31.809697679170437,\n",
       " 31.410539094014617,\n",
       " 31.031113358333659,\n",
       " 30.69182137046537,\n",
       " 30.401859093424083,\n",
       " 30.1649949759504,\n",
       " 29.982508363376809,\n",
       " 29.852373868541964,\n",
       " 29.721469275868525,\n",
       " 29.619527715480757,\n",
       " 29.543476355350592,\n",
       " 29.482281188547312,\n",
       " 29.436114417397192,\n",
       " 29.408004070035112,\n",
       " 29.738506411967453,\n",
       " 29.551040230337307,\n",
       " 29.347526096879719,\n",
       " 29.133194103643657,\n",
       " 28.912060817383725,\n",
       " 28.687927360017088,\n",
       " 28.463152161212328,\n",
       " 28.239584928140246,\n",
       " 28.018668076878317,\n",
       " 27.8015168945224,\n",
       " 27.59070887879836,\n",
       " 27.38407146149703,\n",
       " 27.380257062562073,\n",
       " 27.38940893858107,\n",
       " 27.410306136755104,\n",
       " 27.44256371189276,\n",
       " 27.479922624444367,\n",
       " 27.513293173266817,\n",
       " 27.543047410444832,\n",
       " 27.569519246996339,\n",
       " 27.593008738626271]"
      ]
     },
     "execution_count": 1,
     "metadata": {},
     "output_type": "execute_result"
    }
   ],
   "source": [
    "from section_cftl.agent import Agent\n",
    "\n",
    "agent = Agent.from_()\n",
    "agent.iter_with_('proposed_algorithm', circles=50, dump=False)"
   ]
  },
  {
   "cell_type": "code",
   "execution_count": 2,
   "metadata": {
    "collapsed": false,
    "scrolled": false
   },
   "outputs": [
    {
     "data": {
      "image/png": "[encoded data removed]",
      "text/plain": [
       "<matplotlib.figure.Figure at 0x10e4bcf90>"
      ]
     },
     "metadata": {},
     "output_type": "display_data"
    }
   ],
   "source": [
    "import matplotlib.pyplot as plt\n",
    "\n",
    "\n",
    "plt.plot(agent.rewards)\n",
    "plt.show()"
   ]
  },
  {
   "cell_type": "code",
   "execution_count": 12,
   "metadata": {
    "collapsed": false
   },
   "outputs": [
    {
     "data": {
      "text/plain": [
       "52.92173761618777"
      ]
     },
     "execution_count": 12,
     "metadata": {},
     "output_type": "execute_result"
    }
   ],
   "source": [
    "def calculate_reward(agent, multiplier=1.):\n",
    "    uk_shape = agent.x_uk.shape\n",
    "    x_uk = agent.x_uk\n",
    "    y_k = agent.y_k\n",
    "    theta_uk = agent.theta_uk\n",
    "    l_uk0 = agent.l_uk0\n",
    "    l_ukb = agent.l_ukb\n",
    "    neighbor_size_dict = {key: len(value) for key, value in agent.neighbor_ub.iteritems()}\n",
    "    y_uk = np.zeros(uk_shape)\n",
    "    for u in xrange(uk_shape[0]):\n",
    "        neighbor_size = neighbor_size_dict[u]\n",
    "        y_uk[u, :] = y_k ** neighbor_size\n",
    "    matrix = theta_uk * ((l_uk0 - l_ukb) * y_uk + l_ukb) * x_uk    \n",
    "    return np.sum(matrix) * multiplier\n",
    "\n",
    "\n",
    "calculate_reward(agent)"
   ]
  },
  {
   "cell_type": "code",
   "execution_count": 18,
   "metadata": {
    "collapsed": false
   },
   "outputs": [
    {
     "name": "stdout",
     "output_type": "stream",
     "text": [
      "[[0.54919153]\n",
      " [0.09990491]\n",
      " [0.09990491]\n",
      " [0.09990491]\n",
      " [0.09990491]\n",
      " [0.09990491]\n",
      " [0.09990491]\n",
      " [0.09990491]\n",
      " [0.09990491]\n",
      " [0.09990491]]\n",
      "[[1.        ]\n",
      " [0.09990491]\n",
      " [0.09990491]\n",
      " [0.09990491]\n",
      " [0.09990491]\n",
      " [0.09990491]\n",
      " [0.09990491]\n",
      " [0.09990491]\n",
      " [0.09990491]\n",
      " [0.09990491]]\n"
     ]
    }
   ],
   "source": [
    "import numpy as np\n",
    "from cvxpy import *\n",
    "\n",
    "x = vstack(*x)\n",
    "y = vstack(*[power(_, min(1, index)) for index, _ in enumerate(x)])\n",
    "objects = Minimize(sum_entries(y))\n",
    "constraints = [x>=0.1, x<=1]\n",
    "problem = Problem(objects, constraints)\n",
    "problem.solve(solver=SCS)\n",
    "print x.value\n",
    "print y.value"
   ]
  }
 ],
 "metadata": {
  "anaconda-cloud": {},
  "kernelspec": {
   "display_name": "Python [default]",
   "language": "python",
   "name": "python2"
  },
  "language_info": {
   "codemirror_mode": {
    "name": "ipython",
    "version": 2
   },
   "file_extension": ".py",
   "mimetype": "text/x-python",
   "name": "python",
   "nbconvert_exporter": "python",
   "pygments_lexer": "ipython2",
   "version": "2.7.12"
  }
 },
 "nbformat": 4,
 "nbformat_minor": 2
}
