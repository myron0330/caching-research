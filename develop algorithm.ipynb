{
 "cells": [
  {
   "cell_type": "code",
   "execution_count": 1,
   "metadata": {
    "collapsed": true
   },
   "outputs": [],
   "source": [
    "from section_cftl.agent import Agent\n",
    "import numpy as np\n",
    "from cvxpy import *\n",
    "\n",
    "\n",
    "agent = Agent.from_()"
   ]
  },
  {
   "cell_type": "code",
   "execution_count": 25,
   "metadata": {},
   "outputs": [],
   "source": [
    "import networkx as nx\n",
    "import matplotlib.pyplot as plt\n",
    "\n",
    "nx.draw(agent.bs_network, pos=agent.bs_network.positions_info, width=0, node_size=50)\n",
    "nx.draw(agent.users_network, pos=agent.users_network.positions_info, width=0, node_size=10, node_color='g')\n",
    "\n",
    "# plt.show()"
   ]
  },
  {
   "cell_type": "code",
   "execution_count": 8,
   "metadata": {},
   "outputs": [
    {
     "data": {
      "text/plain": [
       "array([[1., 1., 1., ..., 1., 1., 1.],\n",
       "       [1., 1., 1., ..., 1., 1., 1.],\n",
       "       [1., 1., 1., ..., 1., 1., 1.],\n",
       "       ...,\n",
       "       [1., 1., 1., ..., 1., 1., 1.],\n",
       "       [1., 1., 1., ..., 1., 1., 1.],\n",
       "       [1., 1., 1., ..., 1., 1., 1.]])"
      ]
     },
     "execution_count": 8,
     "metadata": {},
     "output_type": "execute_result"
    }
   ],
   "source": [
    "agent.x_uk"
   ]
  },
  {
   "cell_type": "code",
   "execution_count": 6,
   "metadata": {},
   "outputs": [
    {
     "data": {
      "text/plain": [
       "array([[5., 5., 5., ..., 5., 5., 5.],\n",
       "       [5., 5., 5., ..., 5., 5., 5.],\n",
       "       [5., 5., 5., ..., 5., 5., 5.],\n",
       "       ...,\n",
       "       [5., 5., 5., ..., 5., 5., 5.],\n",
       "       [5., 5., 5., ..., 5., 5., 5.],\n",
       "       [5., 5., 5., ..., 5., 5., 5.]])"
      ]
     },
     "execution_count": 6,
     "metadata": {},
     "output_type": "execute_result"
    }
   ],
   "source": [
    "agent.l_uk0"
   ]
  },
  {
   "cell_type": "code",
   "execution_count": 56,
   "metadata": {},
   "outputs": [
    {
     "data": {
      "text/plain": [
       "array([[0.77156151, 0.77156151, 0.77156151, ..., 0.77156151, 0.77156151,\n",
       "        0.77156151],\n",
       "       [0.74947313, 0.74947313, 0.74947313, ..., 0.74947313, 0.74947313,\n",
       "        0.74947313],\n",
       "       [0.90042264, 0.90042264, 0.90042264, ..., 0.90042264, 0.90042264,\n",
       "        0.90042264],\n",
       "       ...,\n",
       "       [0.79067276, 0.79067276, 0.79067276, ..., 0.79067276, 0.79067276,\n",
       "        0.79067276],\n",
       "       [1.02586236, 1.02586236, 1.02586236, ..., 1.02586236, 1.02586236,\n",
       "        1.02586236],\n",
       "       [0.49595501, 0.49595501, 0.49595501, ..., 0.49595501, 0.49595501,\n",
       "        0.49595501]])"
      ]
     },
     "execution_count": 56,
     "metadata": {},
     "output_type": "execute_result"
    }
   ],
   "source": [
    "agent.l_ukb"
   ]
  },
  {
   "cell_type": "code",
   "execution_count": 57,
   "metadata": {},
   "outputs": [
    {
     "data": {
      "text/plain": [
       "array([[5., 5., 5., ..., 5., 5., 5.],\n",
       "       [5., 5., 5., ..., 5., 5., 5.],\n",
       "       [5., 5., 5., ..., 5., 5., 5.],\n",
       "       ...,\n",
       "       [5., 5., 5., ..., 5., 5., 5.],\n",
       "       [5., 5., 5., ..., 5., 5., 5.],\n",
       "       [5., 5., 5., ..., 5., 5., 5.]])"
      ]
     },
     "execution_count": 57,
     "metadata": {},
     "output_type": "execute_result"
    }
   ],
   "source": [
    "agent.l_uk0"
   ]
  },
  {
   "cell_type": "code",
   "execution_count": 3,
   "metadata": {},
   "outputs": [
    {
     "data": {
      "text/plain": [
       "array([[4.22843849, 4.22843849, 4.22843849, ..., 4.22843849, 4.22843849,\n",
       "        4.22843849],\n",
       "       [4.25052687, 4.25052687, 4.25052687, ..., 4.25052687, 4.25052687,\n",
       "        4.25052687],\n",
       "       [4.09957736, 4.09957736, 4.09957736, ..., 4.09957736, 4.09957736,\n",
       "        4.09957736],\n",
       "       ...,\n",
       "       [4.20932724, 4.20932724, 4.20932724, ..., 4.20932724, 4.20932724,\n",
       "        4.20932724],\n",
       "       [3.97413764, 3.97413764, 3.97413764, ..., 3.97413764, 3.97413764,\n",
       "        3.97413764],\n",
       "       [4.50404499, 4.50404499, 4.50404499, ..., 4.50404499, 4.50404499,\n",
       "        4.50404499]])"
      ]
     },
     "execution_count": 3,
     "metadata": {},
     "output_type": "execute_result"
    }
   ],
   "source": [
    "agent.l_uk_diff"
   ]
  },
  {
   "cell_type": "code",
   "execution_count": 3,
   "metadata": {},
   "outputs": [
    {
     "data": {
      "text/plain": [
       "array([[0.24412909, 0.13082554, 0.09082604, ..., 0.01810816, 0.0172481 ,\n",
       "        0.01646996],\n",
       "       [0.24412909, 0.13082554, 0.09082604, ..., 0.01810816, 0.0172481 ,\n",
       "        0.01646996],\n",
       "       [0.24412909, 0.13082554, 0.09082604, ..., 0.01810816, 0.0172481 ,\n",
       "        0.01646996],\n",
       "       ...,\n",
       "       [0.24412909, 0.13082554, 0.09082604, ..., 0.01810816, 0.0172481 ,\n",
       "        0.01646996],\n",
       "       [0.24412909, 0.13082554, 0.09082604, ..., 0.01810816, 0.0172481 ,\n",
       "        0.01646996],\n",
       "       [0.24412909, 0.13082554, 0.09082604, ..., 0.01810816, 0.0172481 ,\n",
       "        0.01646996]])"
      ]
     },
     "execution_count": 3,
     "metadata": {},
     "output_type": "execute_result"
    }
   ],
   "source": [
    "agent.theta_uk"
   ]
  },
  {
   "cell_type": "code",
   "execution_count": 19,
   "metadata": {
    "scrolled": false
   },
   "outputs": [],
   "source": [
    "for _ in ['uk_shape', 'uk_size', 'theta_uk', 'memory', 'l_uk0, l_ukb, neighbor_size_dict]"
   ]
  },
  {
   "cell_type": "code",
   "execution_count": 2,
   "metadata": {
    "scrolled": false
   },
   "outputs": [
    {
     "data": {
      "text/plain": [
       "array([[0.35301582, 1.        , 1.        , 1.        , 1.        ,\n",
       "        1.        , 0.38345509, 0.34834892, 0.33576283, 0.32857861,\n",
       "        0.32383716, 0.32045155, 0.31790279, 0.31591706, 0.31428861,\n",
       "        0.31298363, 0.31069275, 0.33769562, 0.32644942, 0.37025311]])"
      ]
     },
     "execution_count": 2,
     "metadata": {},
     "output_type": "execute_result"
    }
   ],
   "source": [
    "import numpy as np\n",
    "from section_cftl.algorithms.solvers import *\n",
    "from section_cftl.agent import Agent\n",
    "from cvxpy import *\n",
    "\n",
    "agent = Agent.from_()\n",
    "agent.x_uk = solve_x(agent)\n",
    "agent.y_k = solve_y(agent)\n",
    "agent.x_uk = solve_x(agent)\n",
    "agent.y_k = solve_y(agent)\n",
    "agent.x_uk = solve_x(agent)\n",
    "agent.y_k = solve_y(agent)\n",
    "agent.x_uk\n",
    "agent.y_k"
   ]
  },
  {
   "cell_type": "code",
   "execution_count": 1,
   "metadata": {
    "scrolled": true
   },
   "outputs": [
    {
     "data": {
      "text/plain": [
       "[183.35299290678006,\n",
       " 79.55285103516061,\n",
       " 52.92173761618777,\n",
       " 140.4507707856972,\n",
       " 109.00101682742135,\n",
       " 63.31780884453103,\n",
       " 45.65431233205891,\n",
       " 183.35299280076475,\n",
       " 79.55285104595376,\n",
       " 52.92173761094524,\n",
       " 140.45077074867623,\n",
       " 109.0010170731529,\n",
       " 63.31780888074938,\n",
       " 45.65431237460208,\n",
       " 183.3529927946161,\n",
       " 79.55285105160239,\n",
       " 52.921737587931375,\n",
       " 139.7071418351531,\n",
       " 109.00101700419593,\n",
       " 63.31780891238951,\n",
       " 45.654312468743704,\n",
       " 78.30173856593967,\n",
       " 79.55285104525778,\n",
       " 52.92173761760395,\n",
       " 140.45077093779187,\n",
       " 109.00101707628077,\n",
       " 63.317808817208096,\n",
       " 45.65431228832912,\n",
       " 183.35299279139733,\n",
       " 79.55285104360959,\n",
       " 52.92173761473878,\n",
       " 140.45077074400297,\n",
       " 109.00101707724585,\n",
       " 63.31780886092971,\n",
       " 45.654312488123466,\n",
       " 149.27483524211976,\n",
       " 79.55285096505034,\n",
       " 52.921737348851295,\n",
       " 137.53822894778753,\n",
       " 109.00101709661209,\n",
       " 63.31780886453421,\n",
       " 45.654312391137694,\n",
       " 149.55583472373922,\n",
       " 79.55285105525687,\n",
       " 52.92173765617853,\n",
       " 140.45077103678585,\n",
       " 109.00101707609892,\n",
       " 63.31780889096657,\n",
       " 45.65431237503496,\n",
       " 183.35299279014225]"
      ]
     },
     "execution_count": 1,
     "metadata": {},
     "output_type": "execute_result"
    }
   ],
   "source": [
    "from section_cftl.agent import Agent\n",
    "\n",
    "agent = Agent.from_()\n",
    "agent.iter_with_('proposed_algorithm', circles=50, dump=False)"
   ]
  },
  {
   "cell_type": "code",
   "execution_count": 3,
   "metadata": {
    "scrolled": false
   },
   "outputs": [
    {
     "data": {
      "image/png": "[encoded data removed]",
      "text/plain": [
       "<matplotlib.figure.Figure at 0x7f47304af150>"
      ]
     },
     "metadata": {},
     "output_type": "display_data"
    }
   ],
   "source": [
    "import matplotlib.pyplot as plt\n",
    "\n",
    "\n",
    "plt.plot(agent.rewards)\n",
    "plt.show()"
   ]
  },
  {
   "cell_type": "code",
   "execution_count": 12,
   "metadata": {},
   "outputs": [
    {
     "data": {
      "text/plain": [
       "52.92173761618777"
      ]
     },
     "execution_count": 12,
     "metadata": {},
     "output_type": "execute_result"
    }
   ],
   "source": [
    "def calculate_reward(agent, multiplier=1.):\n",
    "    uk_shape = agent.x_uk.shape\n",
    "    x_uk = agent.x_uk\n",
    "    y_k = agent.y_k\n",
    "    theta_uk = agent.theta_uk\n",
    "    l_uk0 = agent.l_uk0\n",
    "    l_ukb = agent.l_ukb\n",
    "    neighbor_size_dict = {key: len(value) for key, value in agent.neighbor_ub.iteritems()}\n",
    "    y_uk = np.zeros(uk_shape)\n",
    "    for u in xrange(uk_shape[0]):\n",
    "        neighbor_size = neighbor_size_dict[u]\n",
    "        y_uk[u, :] = y_k ** neighbor_size\n",
    "    matrix = theta_uk * ((l_uk0 - l_ukb) * y_uk + l_ukb) * x_uk    \n",
    "    return np.sum(matrix) * multiplier\n",
    "\n",
    "\n",
    "calculate_reward(agent)"
   ]
  },
  {
   "cell_type": "code",
   "execution_count": 18,
   "metadata": {},
   "outputs": [
    {
     "name": "stdout",
     "output_type": "stream",
     "text": [
      "[[0.54919153]\n",
      " [0.09990491]\n",
      " [0.09990491]\n",
      " [0.09990491]\n",
      " [0.09990491]\n",
      " [0.09990491]\n",
      " [0.09990491]\n",
      " [0.09990491]\n",
      " [0.09990491]\n",
      " [0.09990491]]\n",
      "[[1.        ]\n",
      " [0.09990491]\n",
      " [0.09990491]\n",
      " [0.09990491]\n",
      " [0.09990491]\n",
      " [0.09990491]\n",
      " [0.09990491]\n",
      " [0.09990491]\n",
      " [0.09990491]\n",
      " [0.09990491]]\n"
     ]
    }
   ],
   "source": [
    "import numpy as np\n",
    "from cvxpy import *\n",
    "\n",
    "x = vstack(*x)\n",
    "y = vstack(*[power(_, min(1, index)) for index, _ in enumerate(x)])\n",
    "objects = Minimize(sum_entries(y))\n",
    "constraints = [x>=0.1, x<=1]\n",
    "problem = Problem(objects, constraints)\n",
    "problem.solve(solver=SCS)\n",
    "print x.value\n",
    "print y.value"
   ]
  }
 ],
 "metadata": {
  "kernelspec": {
   "display_name": "Python 2",
   "language": "python",
   "name": "python2"
  },
  "language_info": {
   "codemirror_mode": {
    "name": "ipython",
    "version": 2
   },
   "file_extension": ".py",
   "mimetype": "text/x-python",
   "name": "python",
   "nbconvert_exporter": "python",
   "pygments_lexer": "ipython2",
   "version": "2.7.13"
  }
 },
 "nbformat": 4,
 "nbformat_minor": 2
}
